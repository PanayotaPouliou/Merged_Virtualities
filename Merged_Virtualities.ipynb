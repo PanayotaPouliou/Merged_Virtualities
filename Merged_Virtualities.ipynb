{
 "cells": [
  {
   "cell_type": "code",
   "execution_count": 1,
   "metadata": {},
   "outputs": [],
   "source": [
    "# Load Libraries\n",
    "import cv2\n",
    "import numpy as np\n",
    "import pandas as pd\n",
    "import open3d as o3d\n",
    "from matplotlib import pyplot as plt\n",
    "from mpl_toolkits.mplot3d import Axes3D\n",
    "from sklearn import decomposition\n",
    "from sklearn import datasets"
   ]
  },
  {
   "cell_type": "code",
   "execution_count": 2,
   "metadata": {},
   "outputs": [],
   "source": [
    "# Load Room A, B pointcloud (x,y,z,R,G,B)\n",
    "pcdA = o3d.io.read_point_cloud(r\"C:\\Users\\...\\PointCloud_A.ply\")\n",
    "pcdB = o3d.io.read_point_cloud(r\"C:\\Users\\...\\PointCloud_B.ply\")"
   ]
  },
  {
   "cell_type": "code",
   "execution_count": 3,
   "metadata": {},
   "outputs": [],
   "source": [
    "# Visualize the pointclouds\n",
    "o3d.visualization.draw_geometries([pcdA])\n",
    "o3d.visualization.draw_geometries([pcdB])"
   ]
  },
  {
   "cell_type": "code",
   "execution_count": 9,
   "metadata": {},
   "outputs": [],
   "source": [
    "# Making 2 arrays, one with the points and one with the colors of the downsized pointcloud RoomA\n",
    "colA = np.asarray(pcdA.colors)\n",
    "pntA = np.asarray(pcdA.points)"
   ]
  },
  {
   "cell_type": "code",
   "execution_count": 10,
   "metadata": {},
   "outputs": [
    {
     "name": "stdout",
     "output_type": "stream",
     "text": [
      "[[-4.07730510e+00 -2.66569827e+00  2.82512383e+01]\n",
      " [ 2.75299057e-02  7.23286416e+00  2.35189946e+01]\n",
      " [ 2.95438359e+00 -4.07910893e+00  2.59515700e+01]\n",
      " ...\n",
      " [ 3.15025185e+00 -2.01338861e+00  2.75244183e+01]\n",
      " [ 1.87795589e+00 -5.87895844e+00  3.00412764e+01]\n",
      " [-2.59598453e-01 -1.64616011e+00  2.77417187e+01]]\n",
      "[[0.68235294 0.6627451  0.65490196]\n",
      " [0.63529412 0.68235294 0.70980392]\n",
      " [0.66666667 0.57647059 0.50588235]\n",
      " ...\n",
      " [0.14117647 0.16470588 0.21176471]\n",
      " [0.4627451  0.52156863 0.6627451 ]\n",
      " [0.04705882 0.03921569 0.05882353]]\n"
     ]
    },
    {
     "data": {
      "text/plain": [
       "(812850, 3)"
      ]
     },
     "execution_count": 10,
     "metadata": {},
     "output_type": "execute_result"
    }
   ],
   "source": [
    "# Print the arrays of the first pointcloud\n",
    "print(pntA)\n",
    "print(colA)\n",
    "pntA.shape"
   ]
  },
  {
   "cell_type": "code",
   "execution_count": 11,
   "metadata": {},
   "outputs": [],
   "source": [
    "# Making 2 arrays, with the points and with the colors of the second point cloud\n",
    "colB = np.asarray(pcdB.colors)\n",
    "pntB = np.asarray(pcdB.points)"
   ]
  },
  {
   "cell_type": "code",
   "execution_count": 12,
   "metadata": {},
   "outputs": [
    {
     "name": "stdout",
     "output_type": "stream",
     "text": [
      "[[-1.1263864   0.23776194 -4.2433877 ]\n",
      " [-1.2106786   0.14977331 -4.2309246 ]\n",
      " [-1.1944033   0.14402398 -4.2335453 ]\n",
      " ...\n",
      " [ 1.4890983   2.1237135   4.0051699 ]\n",
      " [ 1.456127    2.1367371   4.0007248 ]\n",
      " [ 1.4615676   2.1353354   4.0021071 ]]\n",
      "[[0.25882353 0.21176471 0.15686275]\n",
      " [0.25490196 0.20784314 0.16078431]\n",
      " [0.25098039 0.20392157 0.15686275]\n",
      " ...\n",
      " [0.65882353 0.61176471 0.5254902 ]\n",
      " [0.77254902 0.74509804 0.68235294]\n",
      " [0.71764706 0.63921569 0.54509804]]\n"
     ]
    },
    {
     "data": {
      "text/plain": [
       "(700180, 3)"
      ]
     },
     "execution_count": 12,
     "metadata": {},
     "output_type": "execute_result"
    }
   ],
   "source": [
    "# Print the second pointcloud\n",
    "print(pntB)\n",
    "print(colB)\n",
    "pntB.shape"
   ]
  },
  {
   "cell_type": "code",
   "execution_count": 16,
   "metadata": {},
   "outputs": [],
   "source": [
    "# Make the two arrays equal by reducing the number of the points of biggest one\n",
    "pntAa = pntA[0:700180]\n",
    "colAa = colA[0:700180]"
   ]
  },
  {
   "cell_type": "code",
   "execution_count": null,
   "metadata": {},
   "outputs": [],
   "source": [
    "# As an alternative and more accurate solution it would be the padding method, creating new points using the mean values of the others. "
   ]
  },
  {
   "cell_type": "code",
   "execution_count": 17,
   "metadata": {},
   "outputs": [],
   "source": [
    "#merge the two pointclouds\n",
    "new_pnt = pntAa + pntB\n",
    "new_col = colAa + colB"
   ]
  },
  {
   "cell_type": "code",
   "execution_count": 18,
   "metadata": {},
   "outputs": [
    {
     "data": {
      "text/plain": [
       "True"
      ]
     },
     "execution_count": 18,
     "metadata": {},
     "output_type": "execute_result"
    }
   ],
   "source": [
    "#creating a new pointcloud with the merged points and colors\n",
    "pcd_new = o3d.geometry.PointCloud()\n",
    "pcd_new.points = o3d.utility.Vector3dVector(new_pnt)\n",
    "pcd_new.colors = o3d.utility.Vector3dVector(new_col)\n",
    "pcd_new.estimate_normals(search_param=o3d.geometry.KDTreeSearchParamHybrid(\n",
    "        radius=0.001, max_nn=50))"
   ]
  },
  {
   "cell_type": "code",
   "execution_count": 20,
   "metadata": {},
   "outputs": [],
   "source": [
    "# Vizualization the new pointcloud\n",
    "o3d.visualization.draw_geometries([pcd_new])"
   ]
  },
  {
   "cell_type": "code",
   "execution_count": 21,
   "metadata": {},
   "outputs": [
    {
     "name": "stdout",
     "output_type": "stream",
     "text": [
      "[Open3D WARNING] Write Ply clamped color value to valid range\n"
     ]
    },
    {
     "data": {
      "text/plain": [
       "True"
      ]
     },
     "execution_count": 21,
     "metadata": {},
     "output_type": "execute_result"
    }
   ],
   "source": [
    "# Create a file with the two pointclouds merged\n",
    "o3d.io.write_point_cloud(\"RoomA+B.ply\", pcd_new)"
   ]
  },
  {
   "cell_type": "code",
   "execution_count": 22,
   "metadata": {},
   "outputs": [],
   "source": [
    "# Creates a mesh from the pcd_new\n",
    "mesh, densities = o3d.geometry.TriangleMesh.create_from_point_cloud_poisson(\n",
    "    pcd_new, depth=8)"
   ]
  },
  {
   "cell_type": "code",
   "execution_count": 27,
   "metadata": {},
   "outputs": [],
   "source": [
    "# Visualize the mesh\n",
    "o3d.visualization.draw_geometries([mesh])"
   ]
  },
  {
   "cell_type": "code",
   "execution_count": null,
   "metadata": {},
   "outputs": [],
   "source": []
  }
 ],
 "metadata": {
  "kernelspec": {
   "display_name": "Python 3",
   "language": "python",
   "name": "python3"
  },
  "language_info": {
   "codemirror_mode": {
    "name": "ipython",
    "version": 3
   },
   "file_extension": ".py",
   "mimetype": "text/x-python",
   "name": "python",
   "nbconvert_exporter": "python",
   "pygments_lexer": "ipython3",
   "version": "3.8.3"
  }
 },
 "nbformat": 4,
 "nbformat_minor": 4
}
